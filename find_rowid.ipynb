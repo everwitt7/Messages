{
 "cells": [
  {
   "cell_type": "code",
   "execution_count": 1,
   "id": "52da1f79-e977-4343-a83e-3852edf816dd",
   "metadata": {},
   "outputs": [],
   "source": [
    "#imports\n",
    "import sqlite3\n",
    "import pandas as pd\n",
    "import yaml"
   ]
  },
  {
   "cell_type": "code",
   "execution_count": 2,
   "id": "81f71451-1b6c-43f7-9a41-c84c447dfbde",
   "metadata": {},
   "outputs": [],
   "source": [
    "conn = sqlite3.connect(\"/Users/everettwitt/Library/Messages/chat.db\")\n",
    "cur = conn.cursor()"
   ]
  },
  {
   "cell_type": "code",
   "execution_count": 3,
   "id": "60bb89c7-2c90-42f2-889f-01512d09615c",
   "metadata": {},
   "outputs": [
    {
     "name": "stdout",
     "output_type": "stream",
     "text": [
      "('_SqliteDatabaseProperties',)\n",
      "('deleted_messages',)\n",
      "('sqlite_sequence',)\n",
      "('chat_handle_join',)\n",
      "('sync_deleted_messages',)\n",
      "('message_processing_task',)\n",
      "('handle',)\n",
      "('sync_deleted_chats',)\n",
      "('message_attachment_join',)\n",
      "('sync_deleted_attachments',)\n",
      "('kvtable',)\n",
      "('chat_message_join',)\n",
      "('message',)\n",
      "('chat',)\n",
      "('attachment',)\n",
      "('sqlite_stat1',)\n"
     ]
    }
   ],
   "source": [
    "cur.execute(\"SELECT name FROM sqlite_master WHERE type='table'\")\n",
    "for name in cur.fetchall():\n",
    "    print(name)"
   ]
  },
  {
   "cell_type": "code",
   "execution_count": 14,
   "id": "ba5a3257-0baa-4fb7-bd99-a7e267f7ba1b",
   "metadata": {},
   "outputs": [],
   "source": [
    "handles = pd.read_sql_query(\"SELECT * FROM handle\", conn, index_col=\"ROWID\")"
   ]
  },
  {
   "cell_type": "code",
   "execution_count": 15,
   "id": "a11f6068",
   "metadata": {},
   "outputs": [],
   "source": [
    "with open(\"config.yaml\", \"r\") as f:\n",
    "    config = yaml.safe_load(f)"
   ]
  },
  {
   "cell_type": "code",
   "execution_count": 18,
   "id": "e4a70c53-ad5c-4579-bcea-297b06b91207",
   "metadata": {},
   "outputs": [
    {
     "data": {
      "text/html": [
       "<div>\n",
       "<style scoped>\n",
       "    .dataframe tbody tr th:only-of-type {\n",
       "        vertical-align: middle;\n",
       "    }\n",
       "\n",
       "    .dataframe tbody tr th {\n",
       "        vertical-align: top;\n",
       "    }\n",
       "\n",
       "    .dataframe thead th {\n",
       "        text-align: right;\n",
       "    }\n",
       "</style>\n",
       "<table border=\"1\" class=\"dataframe\">\n",
       "  <thead>\n",
       "    <tr style=\"text-align: right;\">\n",
       "      <th></th>\n",
       "      <th>country</th>\n",
       "      <th>service</th>\n",
       "      <th>uncanonicalized_id</th>\n",
       "      <th>person_centric_id</th>\n",
       "    </tr>\n",
       "    <tr>\n",
       "      <th>ROWID</th>\n",
       "      <th></th>\n",
       "      <th></th>\n",
       "      <th></th>\n",
       "      <th></th>\n",
       "    </tr>\n",
       "  </thead>\n",
       "  <tbody>\n",
       "    <tr>\n",
       "      <th>22</th>\n",
       "      <td>US</td>\n",
       "      <td>iMessage</td>\n",
       "      <td>None</td>\n",
       "      <td>None</td>\n",
       "    </tr>\n",
       "  </tbody>\n",
       "</table>\n",
       "</div>"
      ],
      "text/plain": [
       "      country   service uncanonicalized_id person_centric_id\n",
       "ROWID                                                       \n",
       "22         US  iMessage               None              None"
      ]
     },
     "execution_count": 18,
     "metadata": {},
     "output_type": "execute_result"
    }
   ],
   "source": [
    "# filter rowid by phone number, config[\"phone\"] is my phone of the string format \"+1xxxxxxxxxx\" where x are integers\n",
    "filt = handles[\"id\"] == config[\"phone\"]\n",
    "\n",
    "# drop my phone number\n",
    "handles.loc[filt].drop(columns=\"id\")"
   ]
  }
 ],
 "metadata": {
  "kernelspec": {
   "display_name": "Python 3",
   "language": "python",
   "name": "python3"
  },
  "language_info": {
   "codemirror_mode": {
    "name": "ipython",
    "version": 3
   },
   "file_extension": ".py",
   "mimetype": "text/x-python",
   "name": "python",
   "nbconvert_exporter": "python",
   "pygments_lexer": "ipython3",
   "version": "3.9.5"
  }
 },
 "nbformat": 4,
 "nbformat_minor": 5
}
